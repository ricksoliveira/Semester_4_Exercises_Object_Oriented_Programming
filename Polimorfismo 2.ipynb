{
  "nbformat": 4,
  "nbformat_minor": 0,
  "metadata": {
    "colab": {
      "name": "Polimorfismo 2.ipynb",
      "provenance": [],
      "authorship_tag": "ABX9TyMklkYAFSkhLjOkzfMfh/OR",
      "include_colab_link": true
    },
    "kernelspec": {
      "name": "python3",
      "display_name": "Python 3"
    }
  },
  "cells": [
    {
      "cell_type": "markdown",
      "metadata": {
        "id": "view-in-github",
        "colab_type": "text"
      },
      "source": [
        "<a href=\"https://colab.research.google.com/github/ricksoliveira/Semester_4_Exercises_Object_Oriented_Programming/blob/master/Polimorfismo%202.ipynb\" target=\"_parent\"><img src=\"https://colab.research.google.com/assets/colab-badge.svg\" alt=\"Open In Colab\"/></a>"
      ]
    },
    {
      "cell_type": "code",
      "metadata": {
        "id": "Mw8qjY1Z023-",
        "colab_type": "code",
        "colab": {}
      },
      "source": [
        "class Funcionario:\n",
        "\n",
        "    def __init__(self, nome, cpf, salario):\n",
        "        self._nome = nome\n",
        "        self._cpf = cpf\n",
        "        self._salario = salario\n",
        "\n",
        "    def get_bonificacao(self):\n",
        "        return self._salario * 0.10"
      ],
      "execution_count": null,
      "outputs": []
    },
    {
      "cell_type": "code",
      "metadata": {
        "id": "0nNcmXnvApiN",
        "colab_type": "code",
        "colab": {}
      },
      "source": [
        "class Gerente(Funcionario):\n",
        "\n",
        "    def __init__(self, nome, cpf, salario, senha, qtd_gerenciaveis):\n",
        "        super().__init__(nome, cpf, salario)\n",
        "        self._senha = senha\n",
        "        self._qtd_gerenciaveis = qtd_gerenciaveis\n",
        "\n",
        "    def get_bonificacao(self):\n",
        "        return super().get_bonificacao() + 1000"
      ],
      "execution_count": null,
      "outputs": []
    },
    {
      "cell_type": "code",
      "metadata": {
        "id": "IJzE2RaQAtcw",
        "colab_type": "code",
        "colab": {}
      },
      "source": [
        "class ControleDeBonificacoes:\n",
        "\n",
        "    def __init__(self, total_bonificacoes=0):\n",
        "        self._total_bonificacoes = total_bonificacoes\n",
        "\n",
        "    def registra(self, func):\n",
        "      try:\n",
        "        self._total_bonificacoes += func.get_bonificacao()\n",
        "      except AttributeError:\n",
        "        print(\"nao é um funcionário\")\n",
        "\n",
        "    @property\n",
        "    def total_bonificacoes(self):\n",
        "        return self._total_bonificacoes"
      ],
      "execution_count": null,
      "outputs": []
    },
    {
      "cell_type": "code",
      "metadata": {
        "id": "LTKQO5-_AvnA",
        "colab_type": "code",
        "colab": {
          "base_uri": "https://localhost:8080/",
          "height": 35
        },
        "outputId": "088018a8-6892-47af-c463-c28854f456c2"
      },
      "source": [
        "f1 = Funcionario('João', '111111111-11', 2000.0)\n",
        "print(\"bonificacao funcionario: {}\".format(f1.get_bonificacao()))"
      ],
      "execution_count": null,
      "outputs": [
        {
          "output_type": "stream",
          "text": [
            "bonificacao funcionario: 200.0\n"
          ],
          "name": "stdout"
        }
      ]
    },
    {
      "cell_type": "code",
      "metadata": {
        "id": "cS8UE8VSAw6U",
        "colab_type": "code",
        "colab": {
          "base_uri": "https://localhost:8080/",
          "height": 35
        },
        "outputId": "925efe87-b617-496c-841c-e8fc7c2df1c9"
      },
      "source": [
        "g1 = Gerente(\"José\", \"222222222-22\", 5000.0, '1234', 0)\n",
        "print(\"bonificacao gerente: {}\".format(g1.get_bonificacao()))"
      ],
      "execution_count": null,
      "outputs": [
        {
          "output_type": "stream",
          "text": [
            "bonificacao gerente: 1500.0\n"
          ],
          "name": "stdout"
        }
      ]
    },
    {
      "cell_type": "code",
      "metadata": {
        "id": "vd-iwvzVAyJu",
        "colab_type": "code",
        "colab": {
          "base_uri": "https://localhost:8080/",
          "height": 35
        },
        "outputId": "2c23841e-c4c5-4f3b-bb42-e9cec30b7c8c"
      },
      "source": [
        "controle = ControleDeBonificacoes()\n",
        "controle.registra(f1)\n",
        "controle.registra(g1)\n",
        "\n",
        "print(\"total: {}\".format(controle.total_bonificacoes))"
      ],
      "execution_count": null,
      "outputs": [
        {
          "output_type": "stream",
          "text": [
            "total: 1700.0\n"
          ],
          "name": "stdout"
        }
      ]
    },
    {
      "cell_type": "code",
      "metadata": {
        "id": "YAGS83ymBOCr",
        "colab_type": "code",
        "colab": {}
      },
      "source": [
        "class Secretaria(Funcionario):\n",
        "\n",
        "    def __init__(self, nome, cpf, salario, assistencia):\n",
        "        super().__init__(nome, cpf, salario)\n",
        "        self._assistencia = assistencia\n",
        "       \n",
        "    def get_bonificacao(self):\n",
        "        return super().get_bonificacao() + (self._assistencia * 300)"
      ],
      "execution_count": null,
      "outputs": []
    },
    {
      "cell_type": "code",
      "metadata": {
        "id": "0XU_IndDCCRl",
        "colab_type": "code",
        "colab": {
          "base_uri": "https://localhost:8080/",
          "height": 35
        },
        "outputId": "13ad9a79-db75-4e3f-cd36-46a18f21a673"
      },
      "source": [
        "s1 = Secretaria(\"Julia\", '333333333-33', 2200.0, 3.0)\n",
        "print(\"Secretaria: {}\".format(s1.get_bonificacao()))"
      ],
      "execution_count": null,
      "outputs": [
        {
          "output_type": "stream",
          "text": [
            "Secretaria: 1120.0\n"
          ],
          "name": "stdout"
        }
      ]
    },
    {
      "cell_type": "code",
      "metadata": {
        "id": "DEjllfn-JHGc",
        "colab_type": "code",
        "colab": {
          "base_uri": "https://localhost:8080/",
          "height": 35
        },
        "outputId": "66375457-e05a-4bdd-b01b-984ee82c3f30"
      },
      "source": [
        "controle.registra(s1)\n",
        "print(\"total: {}\".format(controle.total_bonificacoes))"
      ],
      "execution_count": null,
      "outputs": [
        {
          "output_type": "stream",
          "text": [
            "total: 2820.0\n"
          ],
          "name": "stdout"
        }
      ]
    },
    {
      "cell_type": "code",
      "metadata": {
        "id": "Rn0nIsMzM0nB",
        "colab_type": "code",
        "colab": {}
      },
      "source": [
        "class Cliente:\n",
        "\n",
        "  def __init__(self, nome, cpf, salario):\n",
        "    self._nome = nome\n",
        "    self._cpf = cpf\n",
        "    self._salario = salario"
      ],
      "execution_count": null,
      "outputs": []
    },
    {
      "cell_type": "code",
      "metadata": {
        "id": "IGe0CxgLM_2s",
        "colab_type": "code",
        "colab": {}
      },
      "source": [
        "c1 = Cliente('Julia', '1111111', 2500)"
      ],
      "execution_count": null,
      "outputs": []
    },
    {
      "cell_type": "code",
      "metadata": {
        "id": "lfUuvXH5NOPu",
        "colab_type": "code",
        "colab": {
          "base_uri": "https://localhost:8080/",
          "height": 298
        },
        "outputId": "435bf135-081e-4aaf-e49a-52348cb82c1c"
      },
      "source": [
        "controle.registra(c1)"
      ],
      "execution_count": null,
      "outputs": [
        {
          "output_type": "error",
          "ename": "AttributeError",
          "evalue": "ignored",
          "traceback": [
            "\u001b[0;31m---------------------------------------------------------------------------\u001b[0m",
            "\u001b[0;31mAttributeError\u001b[0m                            Traceback (most recent call last)",
            "\u001b[0;32m<ipython-input-28-6adb4d63ee7e>\u001b[0m in \u001b[0;36m<module>\u001b[0;34m()\u001b[0m\n\u001b[0;32m----> 1\u001b[0;31m \u001b[0mcontrole\u001b[0m\u001b[0;34m.\u001b[0m\u001b[0mregistra\u001b[0m\u001b[0;34m(\u001b[0m\u001b[0mc1\u001b[0m\u001b[0;34m)\u001b[0m\u001b[0;34m\u001b[0m\u001b[0;34m\u001b[0m\u001b[0m\n\u001b[0m",
            "\u001b[0;32m<ipython-input-4-4f84518d3781>\u001b[0m in \u001b[0;36mregistra\u001b[0;34m(self, func)\u001b[0m\n\u001b[1;32m      5\u001b[0m \u001b[0;34m\u001b[0m\u001b[0m\n\u001b[1;32m      6\u001b[0m     \u001b[0;32mdef\u001b[0m \u001b[0mregistra\u001b[0m\u001b[0;34m(\u001b[0m\u001b[0mself\u001b[0m\u001b[0;34m,\u001b[0m \u001b[0mfunc\u001b[0m\u001b[0;34m)\u001b[0m\u001b[0;34m:\u001b[0m\u001b[0;34m\u001b[0m\u001b[0;34m\u001b[0m\u001b[0m\n\u001b[0;32m----> 7\u001b[0;31m         \u001b[0mself\u001b[0m\u001b[0;34m.\u001b[0m\u001b[0m_total_bonificacoes\u001b[0m \u001b[0;34m+=\u001b[0m \u001b[0mfunc\u001b[0m\u001b[0;34m.\u001b[0m\u001b[0mget_bonificacao\u001b[0m\u001b[0;34m(\u001b[0m\u001b[0;34m)\u001b[0m\u001b[0;34m\u001b[0m\u001b[0;34m\u001b[0m\u001b[0m\n\u001b[0m\u001b[1;32m      8\u001b[0m \u001b[0;34m\u001b[0m\u001b[0m\n\u001b[1;32m      9\u001b[0m     \u001b[0;34m@\u001b[0m\u001b[0mproperty\u001b[0m\u001b[0;34m\u001b[0m\u001b[0;34m\u001b[0m\u001b[0m\n",
            "\u001b[0;31mAttributeError\u001b[0m: 'Cliente' object has no attribute 'get_bonificacao'"
          ]
        }
      ]
    }
  ]
}