{
  "nbformat": 4,
  "nbformat_minor": 0,
  "metadata": {
    "colab": {
      "name": "Exemplo Vingadores (Herança Multipla).ipynb",
      "provenance": [],
      "authorship_tag": "ABX9TyN2jTGizKdmhtS4451Ptf3N",
      "include_colab_link": true
    },
    "kernelspec": {
      "name": "python3",
      "display_name": "Python 3"
    }
  },
  "cells": [
    {
      "cell_type": "markdown",
      "metadata": {
        "id": "view-in-github",
        "colab_type": "text"
      },
      "source": [
        "<a href=\"https://colab.research.google.com/github/ricksoliveira/Semester_4_Exercises_Object_Oriented_Programming/blob/master/Exemplo%20Vingadores%20(Heran%C3%A7a%20Multipla).ipynb\" target=\"_parent\"><img src=\"https://colab.research.google.com/assets/colab-badge.svg\" alt=\"Open In Colab\"/></a>"
      ]
    },
    {
      "cell_type": "code",
      "metadata": {
        "id": "195AVgFhA1Kf",
        "colab_type": "code",
        "colab": {}
      },
      "source": [
        "class super_forca:\n",
        "\n",
        "  def __init__(self):\n",
        "    print(\"tenho o poder da super força!\")\n",
        "    self._forca = 50\n",
        "\n",
        "  def set_forca(self, forca):\n",
        "    self._forca = forca\n",
        "\n",
        "  def get_forca(self):\n",
        "    return self._forca\n",
        "\n",
        "  def mostra_dados(self):\n",
        "    print(\"Força: \" + str(self.get_forca()))\n",
        "\n",
        "class voar:\n",
        "\n",
        "  def __init__(self):\n",
        "    print(\"consigo voar!\")\n",
        "    self._altitude = 0\n",
        "  \n",
        "  def set_altitude(self, altitude):\n",
        "    self._altitude = altitude\n",
        "\n",
        "  def get_altitude(self):\n",
        "    return self._altitude\n",
        "\n",
        "  def mostra_dados(self):\n",
        "    print(\"Voo em: \" + str(self.get_altitude()) + \" metros\")\n",
        "\n",
        "class pessoa:\n",
        "\n",
        "  def __init__(self, nome, peso):\n",
        "    print(\"sou uma pessoa\")\n",
        "    self._nome = nome\n",
        "    self._peso = peso\n",
        "\n",
        "  def get_nome(self):\n",
        "    return self._nome\n",
        "\n",
        "  def set_peso(self, peso):\n",
        "    self._peso = peso\n",
        "\n",
        "  def get_peso(self):\n",
        "    return self._peso\n",
        "\n",
        "  def mostra_dados(self):\n",
        "    print(\"Nome: \" + self.get_nome())\n",
        "    print(\"Peso: \" + str(self.get_peso()))"
      ],
      "execution_count": null,
      "outputs": []
    },
    {
      "cell_type": "code",
      "metadata": {
        "id": "NqDdGXw7ECsT",
        "colab_type": "code",
        "colab": {}
      },
      "source": [
        "class Hulk(pessoa, super_forca):\n",
        "\n",
        "  def __init__(self, nome, peso):\n",
        "    pessoa.__init__(self, nome, peso)\n",
        "    super_forca.__init__(self)\n",
        "\n",
        "  def ficar_nervoso(self):\n",
        "    print(\"HULK ESMAGA\")\n",
        "    self.set_forca(1000)\n",
        "    self.set_peso(500)\n",
        "\n",
        "  def vai_pescar(self):\n",
        "    print(\"hul tranquilo...\")\n",
        "    self.set_forca(50)\n",
        "    self.set_peso(70)\n",
        "\n",
        "  def mostra_dados(self):\n",
        "    print(\"Dados do Hulk\")\n",
        "    pessoa.mostra_dados(self)\n",
        "    super_forca.mostra_dados(self)\n",
        "    print(\"\")"
      ],
      "execution_count": null,
      "outputs": []
    },
    {
      "cell_type": "code",
      "metadata": {
        "id": "fYx6TeUwHWkU",
        "colab_type": "code",
        "colab": {}
      },
      "source": [
        "class Thor(pessoa, super_forca, voar):\n",
        "\n",
        "  def __init__(self, nome, peso):\n",
        "    pessoa.__init__(self, nome, peso)\n",
        "    super_forca.__init__(self)\n",
        "\n",
        "  def pega_martelo(self):\n",
        "    print(\"VOAR VOAR SUBIR SUBIR\")\n",
        "    self.set_altitude(100)\n",
        "\n",
        "  def solta_martelo(self):\n",
        "    print(\"DESCENDO\")\n",
        "    self.set_altitude(0)\n",
        "\n",
        "  def mostra_dados(self):\n",
        "    print(\"Dados do Thor\")\n",
        "    pessoa.mostra_dados(self)\n",
        "    super_forca.mostra_dados(self)\n",
        "    voar.mostra_dados(self)\n",
        "    print(\"\")"
      ],
      "execution_count": null,
      "outputs": []
    },
    {
      "cell_type": "code",
      "metadata": {
        "id": "4dOasafsGGG-",
        "colab_type": "code",
        "colab": {
          "base_uri": "https://localhost:8080/",
          "height": 53
        },
        "outputId": "d38ba01a-7897-4abc-e961-931298e2d602"
      },
      "source": [
        "Benner = Hulk(\"Benner\", 70)"
      ],
      "execution_count": null,
      "outputs": [
        {
          "output_type": "stream",
          "text": [
            "sou uma pessoa\n",
            "tenho o poder da super força!\n"
          ],
          "name": "stdout"
        }
      ]
    },
    {
      "cell_type": "code",
      "metadata": {
        "id": "tNLaUFGaGkoC",
        "colab_type": "code",
        "colab": {
          "base_uri": "https://localhost:8080/",
          "height": 233
        },
        "outputId": "16a03c45-9071-4048-9d54-3d23b755d1d8"
      },
      "source": [
        "Benner.ficar_nervoso()\n",
        "Benner.mostra_dados()\n",
        "Benner.vai_pescar()\n",
        "Benner.mostra_dados()"
      ],
      "execution_count": null,
      "outputs": [
        {
          "output_type": "stream",
          "text": [
            "HULK ESMAGA\n",
            "Dados do Hulk\n",
            "Nome: Benner\n",
            "Peso: 500\n",
            "Força: 1000\n",
            "\n",
            "hul tranquilo...\n",
            "Dados do Hulk\n",
            "Nome: Benner\n",
            "Peso: 70\n",
            "Força: 50\n",
            "\n"
          ],
          "name": "stdout"
        }
      ]
    },
    {
      "cell_type": "code",
      "metadata": {
        "id": "3Z2GvlBRJLM2",
        "colab_type": "code",
        "colab": {
          "base_uri": "https://localhost:8080/",
          "height": 53
        },
        "outputId": "6e438a41-566b-4a1b-ec96-a278f9399e73"
      },
      "source": [
        "Chris = Thor(\"Chris\", 90)"
      ],
      "execution_count": null,
      "outputs": [
        {
          "output_type": "stream",
          "text": [
            "sou uma pessoa\n",
            "tenho o poder da super força!\n"
          ],
          "name": "stdout"
        }
      ]
    },
    {
      "cell_type": "code",
      "metadata": {
        "id": "WXZ6ggcfKRHC",
        "colab_type": "code",
        "colab": {
          "base_uri": "https://localhost:8080/",
          "height": 269
        },
        "outputId": "e1492fce-2752-4a43-cd00-de53b69406de"
      },
      "source": [
        "Chris.pega_martelo()\n",
        "Chris.mostra_dados()\n",
        "Chris.solta_martelo()\n",
        "Chris.mostra_dados()"
      ],
      "execution_count": null,
      "outputs": [
        {
          "output_type": "stream",
          "text": [
            "VOAR VOAR SUBIR SUBIR\n",
            "Dados do Thor\n",
            "Nome: Chris\n",
            "Peso: 90\n",
            "Força: 50\n",
            "Voo em: 100 metros\n",
            "\n",
            "DESCENDO\n",
            "Dados do Thor\n",
            "Nome: Chris\n",
            "Peso: 90\n",
            "Força: 50\n",
            "Voo em: 0 metros\n",
            "\n"
          ],
          "name": "stdout"
        }
      ]
    }
  ]
}