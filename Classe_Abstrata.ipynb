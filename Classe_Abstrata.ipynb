{
  "nbformat": 4,
  "nbformat_minor": 0,
  "metadata": {
    "colab": {
      "name": "Classe Abstrata.ipynb",
      "provenance": [],
      "authorship_tag": "ABX9TyOBptAphitmY9lUQuix2Jzn",
      "include_colab_link": true
    },
    "kernelspec": {
      "name": "python3",
      "display_name": "Python 3"
    }
  },
  "cells": [
    {
      "cell_type": "markdown",
      "metadata": {
        "id": "view-in-github",
        "colab_type": "text"
      },
      "source": [
        "<a href=\"https://colab.research.google.com/github/ricksoliveira/Semester_4_Exercises_Object_Oriented_Programming/blob/master/Classe_Abstrata.ipynb\" target=\"_parent\"><img src=\"https://colab.research.google.com/assets/colab-badge.svg\" alt=\"Open In Colab\"/></a>"
      ]
    },
    {
      "cell_type": "code",
      "metadata": {
        "id": "Mw8qjY1Z023-",
        "colab_type": "code",
        "colab": {}
      },
      "source": [
        "import abc\n",
        "\n",
        "class Funcionario(abc.ABC):\n",
        "\n",
        "    def __init__(self, nome, cpf, salario):\n",
        "        self._nome = nome\n",
        "        self._cpf = cpf\n",
        "        self._salario = salario\n",
        "\n",
        "    @abc.abstractmethod\n",
        "    def get_bonificacao(self):\n",
        "        pass"
      ],
      "execution_count": null,
      "outputs": []
    },
    {
      "cell_type": "code",
      "metadata": {
        "id": "0nNcmXnvApiN",
        "colab_type": "code",
        "colab": {}
      },
      "source": [
        "class Gerente(Funcionario):\n",
        "\n",
        "    def __init__(self, nome, cpf, salario):\n",
        "        super().__init__(nome, cpf, salario)\n",
        "\n",
        "    def get_bonificacao(self):\n",
        "        return self.salario * 0.15"
      ],
      "execution_count": null,
      "outputs": []
    },
    {
      "cell_type": "code",
      "metadata": {
        "id": "lfhJGMPQQrdn",
        "colab_type": "code",
        "colab": {}
      },
      "source": [
        "class Diretor(Funcionario):\n",
        "\n",
        "    def __init__(self, nome, cpf, salario):\n",
        "        super().__init__(nome, cpf, salario)\n",
        "\n",
        "    def get_bonificacao(self):\n",
        "        return self.salario * 0.15 + 1000"
      ],
      "execution_count": null,
      "outputs": []
    },
    {
      "cell_type": "code",
      "metadata": {
        "id": "toB5xxebQ3om",
        "colab_type": "code",
        "colab": {}
      },
      "source": [
        "d1 = Diretor(\"Henrique\", \"111\", 5000.0)\n",
        "g1 = Gerente(\"Joao\", \"222\", 7000.0)"
      ],
      "execution_count": null,
      "outputs": []
    },
    {
      "cell_type": "code",
      "metadata": {
        "id": "m3bw-Su0RF7V",
        "colab_type": "code",
        "colab": {}
      },
      "source": [
        "d1.get_bonificacao\n",
        "g1.get_bonificacao"
      ],
      "execution_count": null,
      "outputs": []
    },
    {
      "cell_type": "markdown",
      "metadata": {
        "id": "MsXKqKyCH1tX",
        "colab_type": "text"
      },
      "source": [
        "###Exercício\n",
        "\n",
        "Torne a classe `Conta` abaixo abstrata através do método `atualiza`, que atualiza a conta de acordo com a taxa percentual.\n",
        "\n",
        "```\n",
        "class Conta(abc.ABC):\n",
        "\n",
        "     def __init__(self, numero, titular, saldo=0, limite=1000.0):\n",
        "         self._numero = numero\n",
        "         self._titular = titular\n",
        "         self._saldo = saldo\n",
        "         self._limite = limite\n",
        "```\n",
        "\n",
        "Crie duas subclasses da classe Conta: `ContaCorrente` e `ContaPoupanca`. Ambas terão o método `atualiza()` reescrito: a `ContaCorrente` deve atualizar-se com o dobro da taxa e a `ContaPoupanca` deve atualizar-se com o triplo da taxa.\n",
        "\n",
        "Crie uma subclasse chamada `ContaInvestimento`:\n",
        "\n",
        "```\n",
        " class ContaInvestimeto(Conta):\n",
        "     pass\n",
        "\n",
        "```"
      ]
    },
    {
      "cell_type": "code",
      "metadata": {
        "id": "xhr6TimDRvr9",
        "colab_type": "code",
        "colab": {}
      },
      "source": [
        "class Conta(abc.ABC):\n",
        " \n",
        "    def __init__(self, numero, titular, saldo=0, limite=1000.0):\n",
        "         self._numero = numero\n",
        "         self._titular = titular\n",
        "         self._saldo = saldo\n",
        "         self._limite = limite\n",
        "        \n",
        "    @abc.abstractmethod\n",
        "    def atualiza(self):\n",
        "        pass"
      ],
      "execution_count": null,
      "outputs": []
    },
    {
      "cell_type": "code",
      "metadata": {
        "id": "mj1qF2wySB7b",
        "colab_type": "code",
        "colab": {}
      },
      "source": [
        "class ContaCorrente(Conta):\n",
        " \n",
        "    def __init__(self, numero, titular, saldo=0, limite=1000.0):\n",
        "      super().__init__(numero, titular, saldo, limite)\n",
        "\n",
        "    def atualiza(self, taxa):\n",
        "      self._saldo += self._saldo * taxa * 2"
      ],
      "execution_count": null,
      "outputs": []
    },
    {
      "cell_type": "code",
      "metadata": {
        "id": "KkXPdUrySGFw",
        "colab_type": "code",
        "colab": {}
      },
      "source": [
        "class ContaPoupanca(Conta):\n",
        " \n",
        "    def __init__(self, numero, titular, saldo=0, limite=1000.0):\n",
        "      super().__init__(numero, titular, saldo, limite)\n",
        "\n",
        "    def atualiza(self, taxa):\n",
        "      self._saldo += self._saldo * taxa * 3"
      ],
      "execution_count": null,
      "outputs": []
    },
    {
      "cell_type": "code",
      "metadata": {
        "id": "GrbSsToTS-oh",
        "colab_type": "code",
        "colab": {}
      },
      "source": [
        "cc1 = ContaCorrente(555, \"Henrique\")"
      ],
      "execution_count": null,
      "outputs": []
    },
    {
      "cell_type": "code",
      "metadata": {
        "id": "WQoAIdiSTEJ1",
        "colab_type": "code",
        "colab": {
          "base_uri": "https://localhost:8080/",
          "height": 35
        },
        "outputId": "6f56fd06-31fa-42d0-e0eb-1e1070f56ca9"
      },
      "source": [
        "print(cc1._saldo)"
      ],
      "execution_count": null,
      "outputs": [
        {
          "output_type": "stream",
          "text": [
            "0\n"
          ],
          "name": "stdout"
        }
      ]
    },
    {
      "cell_type": "code",
      "metadata": {
        "id": "Ti62qmIOZ_iJ",
        "colab_type": "code",
        "colab": {}
      },
      "source": [
        "class ContaInvestimento(Conta):\n",
        "    def __init__(self, numero, titular, saldo=0, limite=1000.0):\n",
        "        super().__init__(numero, titular, saldo, limite)\n",
        "\n",
        "    def atualiza(self, taxa): \n",
        "        self._saldo += self._saldo * taxa * 5"
      ],
      "execution_count": null,
      "outputs": []
    },
    {
      "cell_type": "code",
      "metadata": {
        "id": "c8iWh3cEaQE7",
        "colab_type": "code",
        "colab": {
          "base_uri": "https://localhost:8080/",
          "height": 35
        },
        "outputId": "03342b25-9367-4f95-f5a8-470932e60c0b"
      },
      "source": [
        "cc = ContaCorrente(111, 'Manuel', 100)\n",
        "cc.atualiza(0.01)\n",
        "print(cc._saldo)"
      ],
      "execution_count": null,
      "outputs": [
        {
          "output_type": "stream",
          "text": [
            "102.0\n"
          ],
          "name": "stdout"
        }
      ]
    },
    {
      "cell_type": "code",
      "metadata": {
        "id": "6ClQFwB4aZPg",
        "colab_type": "code",
        "colab": {
          "base_uri": "https://localhost:8080/",
          "height": 35
        },
        "outputId": "63efdaaa-3ce4-4d94-b3a2-4bca4ef0bfeb"
      },
      "source": [
        "cp = ContaPoupanca(222, 'Helena', 100)\n",
        "cp.atualiza(0.01)\n",
        "print(cp._saldo)"
      ],
      "execution_count": null,
      "outputs": [
        {
          "output_type": "stream",
          "text": [
            "103.0\n"
          ],
          "name": "stdout"
        }
      ]
    },
    {
      "cell_type": "code",
      "metadata": {
        "id": "Xy3vJU_Nac8N",
        "colab_type": "code",
        "colab": {
          "base_uri": "https://localhost:8080/",
          "height": 35
        },
        "outputId": "9686bc16-fc78-47b6-a5d7-e2bc04d31b83"
      },
      "source": [
        "ci = ContaInvestimento(333, 'Leonardo', 100)\n",
        "ci.atualiza(0.01)\n",
        "print(ci._saldo)"
      ],
      "execution_count": null,
      "outputs": [
        {
          "output_type": "stream",
          "text": [
            "105.0\n"
          ],
          "name": "stdout"
        }
      ]
    }
  ]
}