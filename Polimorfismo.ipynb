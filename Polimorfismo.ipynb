{
  "nbformat": 4,
  "nbformat_minor": 0,
  "metadata": {
    "colab": {
      "name": "Polimorfismo.ipynb",
      "provenance": [],
      "authorship_tag": "ABX9TyOEiZs4uE7JUh92eJQUhAwL",
      "include_colab_link": true
    },
    "kernelspec": {
      "name": "python3",
      "display_name": "Python 3"
    }
  },
  "cells": [
    {
      "cell_type": "markdown",
      "metadata": {
        "id": "view-in-github",
        "colab_type": "text"
      },
      "source": [
        "<a href=\"https://colab.research.google.com/github/ricksoliveira/Semester_4_Exercises_Object_Oriented_Programming/blob/master/Polimorfismo.ipynb\" target=\"_parent\"><img src=\"https://colab.research.google.com/assets/colab-badge.svg\" alt=\"Open In Colab\"/></a>"
      ]
    },
    {
      "cell_type": "code",
      "metadata": {
        "id": "CqGwXF0ZOq8d",
        "colab_type": "code",
        "colab": {}
      },
      "source": [
        "class Pato:\n",
        "  def nadar(self):\n",
        "    print(\"quack, quack, quack\")\n",
        "\n",
        "  def som(self):\n",
        "    print(\"quaaaaaaaaaaaaaaaaaaaack\")"
      ],
      "execution_count": null,
      "outputs": []
    },
    {
      "cell_type": "code",
      "metadata": {
        "id": "jBQf4rdjPErh",
        "colab_type": "code",
        "colab": {}
      },
      "source": [
        "p1 = Pato()\n",
        "p1.nadar()\n",
        "p1.som()"
      ],
      "execution_count": null,
      "outputs": []
    },
    {
      "cell_type": "code",
      "metadata": {
        "id": "m8Uv0p0hPRh8",
        "colab_type": "code",
        "colab": {}
      },
      "source": [
        "class PatinhoFeio:\n",
        "  def nadar(self):\n",
        "    print(\"queeeeeeeeee\")\n",
        "  \n",
        "  def som(self):\n",
        "    print(\"queee\")\n",
        "  "
      ],
      "execution_count": null,
      "outputs": []
    },
    {
      "cell_type": "code",
      "metadata": {
        "id": "HiSMrcYnPa10",
        "colab_type": "code",
        "colab": {}
      },
      "source": [
        "class Pluto:\n",
        "  def som(self):\n",
        "    print(\"au au\")"
      ],
      "execution_count": null,
      "outputs": []
    },
    {
      "cell_type": "code",
      "metadata": {
        "id": "Nr4XemoCPixV",
        "colab_type": "code",
        "colab": {}
      },
      "source": [
        "class Donald(Pato):\n",
        "  pass"
      ],
      "execution_count": null,
      "outputs": []
    },
    {
      "cell_type": "code",
      "metadata": {
        "id": "Iagk-WayPoJ0",
        "colab_type": "code",
        "colab": {}
      },
      "source": [
        "def encontrarPato(animal):\n",
        "  try:\n",
        "    animal.nadar()\n",
        "    animal.som()\n",
        "  except AttributeError as e:\n",
        "    print(e)"
      ],
      "execution_count": null,
      "outputs": []
    },
    {
      "cell_type": "code",
      "metadata": {
        "id": "d7-jp0ebP3RT",
        "colab_type": "code",
        "colab": {}
      },
      "source": [
        "animais = {}\n",
        "animais['pato'] = Pato()\n",
        "animais['donald'] = Donald()\n",
        "animais['pluto'] = Pluto()\n",
        "animais['patinho_feio'] = PatinhoFeio()"
      ],
      "execution_count": null,
      "outputs": []
    },
    {
      "cell_type": "code",
      "metadata": {
        "id": "Y9vTwbq-Qj6b",
        "colab_type": "code",
        "colab": {
          "base_uri": "https://localhost:8080/",
          "height": 53
        },
        "outputId": "874e12fb-d1ed-4add-ea98-64c3e6dacf45"
      },
      "source": [
        "encontrarPato(p1)"
      ],
      "execution_count": null,
      "outputs": [
        {
          "output_type": "stream",
          "text": [
            "quack, quack, quack\n",
            "quaaaaaaaaaaaaaaaaaaaack\n"
          ],
          "name": "stdout"
        }
      ]
    },
    {
      "cell_type": "code",
      "metadata": {
        "id": "XkuUTFy4Qz8V",
        "colab_type": "code",
        "colab": {
          "base_uri": "https://localhost:8080/",
          "height": 53
        },
        "outputId": "387ba57d-2276-46f4-ca89-c5926c495b44"
      },
      "source": [
        "encontrarPato(animais['patinho_feio'])"
      ],
      "execution_count": null,
      "outputs": [
        {
          "output_type": "stream",
          "text": [
            "queeeeeeeeee\n",
            "queee\n"
          ],
          "name": "stdout"
        }
      ]
    },
    {
      "cell_type": "code",
      "metadata": {
        "id": "wVNDnW8uRsez",
        "colab_type": "code",
        "colab": {
          "base_uri": "https://localhost:8080/",
          "height": 53
        },
        "outputId": "2358034d-31eb-45d9-aab2-3a3283922c84"
      },
      "source": [
        "encontrarPato(animais['donald'])"
      ],
      "execution_count": null,
      "outputs": [
        {
          "output_type": "stream",
          "text": [
            "quack, quack, quack\n",
            "quaaaaaaaaaaaaaaaaaaaack\n"
          ],
          "name": "stdout"
        }
      ]
    },
    {
      "cell_type": "code",
      "metadata": {
        "id": "J6eA__saSKXg",
        "colab_type": "code",
        "colab": {
          "base_uri": "https://localhost:8080/",
          "height": 35
        },
        "outputId": "f1735d66-e823-42cc-8565-e4453f1357eb"
      },
      "source": [
        "encontrarPato(animais['pluto'])"
      ],
      "execution_count": null,
      "outputs": [
        {
          "output_type": "stream",
          "text": [
            "'Pluto' object has no attribute 'nadar'\n"
          ],
          "name": "stdout"
        }
      ]
    },
    {
      "cell_type": "code",
      "metadata": {
        "id": "At66Czvlapkj",
        "colab_type": "code",
        "colab": {
          "base_uri": "https://localhost:8080/",
          "height": 89
        },
        "outputId": "fbf4717a-b83f-49cf-d0ce-9f8823657dfb"
      },
      "source": [
        "animais"
      ],
      "execution_count": null,
      "outputs": [
        {
          "output_type": "execute_result",
          "data": {
            "text/plain": [
              "{'donald': <__main__.Donald at 0x7f87d8e35710>,\n",
              " 'patinho_feio': <__main__.PatinhoFeio at 0x7f87d8e18be0>,\n",
              " 'pato': <__main__.Pato at 0x7f87d8e35588>,\n",
              " 'pluto': <__main__.Pluto at 0x7f87d8e18c50>}"
            ]
          },
          "metadata": {
            "tags": []
          },
          "execution_count": 54
        }
      ]
    },
    {
      "cell_type": "code",
      "metadata": {
        "id": "EMkpMdoNayp2",
        "colab_type": "code",
        "colab": {
          "base_uri": "https://localhost:8080/",
          "height": 359
        },
        "outputId": "eb8f3a8d-92bd-4ef0-90b6-0f2c04a414a6"
      },
      "source": [
        "for chave, valor in animais.items():\n",
        "  print(\"Animal: \" + chave)\n",
        "  print(isinstance(valor, Pato))\n",
        "  encontrarPato(valor)\n",
        "  print(\"\")"
      ],
      "execution_count": null,
      "outputs": [
        {
          "output_type": "stream",
          "text": [
            "Animal: pato\n",
            "True\n",
            "quack, quack, quack\n",
            "quaaaaaaaaaaaaaaaaaaaack\n",
            "\n",
            "Animal: donald\n",
            "True\n",
            "quack, quack, quack\n",
            "quaaaaaaaaaaaaaaaaaaaack\n",
            "\n",
            "Animal: pluto\n",
            "False\n",
            "'Pluto' object has no attribute 'nadar'\n",
            "\n",
            "Animal: patinho_feio\n",
            "False\n",
            "queeeeeeeeee\n",
            "queee\n",
            "\n"
          ],
          "name": "stdout"
        }
      ]
    }
  ]
}